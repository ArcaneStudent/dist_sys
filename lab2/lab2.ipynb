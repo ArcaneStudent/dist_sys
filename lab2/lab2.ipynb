{
 "cells": [
  {
   "cell_type": "code",
   "execution_count": 50,
   "metadata": {},
   "outputs": [],
   "source": [
    "import datetime"
   ]
  },
  {
   "cell_type": "code",
   "execution_count": 39,
   "metadata": {},
   "outputs": [
    {
     "name": "stdout",
     "output_type": "stream",
     "text": [
      "Databases have been opened successfully\n"
     ]
    }
   ],
   "source": [
    "import psycopg2\n",
    "\n",
    "fly_con = psycopg2.connect(\n",
    "  database=\"fly_booking_db\", \n",
    "  user=\"postgres\", \n",
    "  password=\"zxcvbn\", \n",
    "  host=\"127.0.0.1\", \n",
    "  port=\"5432\"\n",
    ")\n",
    "\n",
    "hotel_con = psycopg2.connect(\n",
    "  database=\"hotel_booking_db\", \n",
    "  user=\"postgres\", \n",
    "  password=\"zxcvbn\",\n",
    "  host=\"127.0.0.1\", \n",
    "  port=\"5432\"\n",
    ")\n",
    "\n",
    "print(\"Databases have been opened successfully\")"
   ]
  },
  {
   "cell_type": "markdown",
   "metadata": {},
   "source": [
    "# Show tables content"
   ]
  },
  {
   "cell_type": "code",
   "execution_count": 40,
   "metadata": {},
   "outputs": [
    {
     "name": "stdout",
     "output_type": "stream",
     "text": [
      "Hotel:\n",
      "101\tNik\tHilton\t2015-05-01\t2015-05-07\n",
      "Fly:\n",
      "101\tNik\tKLM 1382\tKBP\tAMS\t2015-05-01\n"
     ]
    }
   ],
   "source": [
    "print(\"Hotel:\")\n",
    "with hotel_con.cursor() as hotel_cursor:\n",
    "    hotel_cursor.execute(\"SELECT * FROM hotel_booking;\")\n",
    "    answer_hotel = hotel_cursor.fetchall()\n",
    "\n",
    "hotel_con.rollback()\n",
    "\n",
    "for line in answer_hotel:\n",
    "    print(\"\\t\".join(map(lambda x: str(x).strip(), line)))\n",
    "    \n",
    "\n",
    "print(\"Fly:\")\n",
    "with fly_con.cursor() as fly_cursor:\n",
    "    fly_cursor.execute(\"SELECT * FROM fly_booking;\")\n",
    "    answer_hotel = fly_cursor.fetchall()\n",
    "\n",
    "fly_con.rollback()\n",
    "\n",
    "for line in answer_hotel:\n",
    "    print(\"\\t\".join(map(lambda x: str(x).strip(), line)))"
   ]
  },
  {
   "cell_type": "markdown",
   "metadata": {},
   "source": [
    "# Prepare commits"
   ]
  },
  {
   "cell_type": "code",
   "execution_count": 44,
   "metadata": {},
   "outputs": [],
   "source": [
    "with hotel_con.cursor() as hotel_cursor:\n",
    "    hotel_cursor.execute(\"\"\"\n",
    "    INSERT INTO hotel_booking (client_name, hotel_name, arrival, departure)\n",
    "    VALUES ('Anton', 'Kiev', '6-05-2020', '12-05-2020');\n",
    "    \"\"\")\n",
    "\n",
    "with fly_con.cursor() as fly_cursor:\n",
    "    fly_cursor.execute(\"\"\"\n",
    "    INSERT INTO fly_booking (client_name, fly_number, code_from, code_to, fly_date)\n",
    "    VALUES ('Anton', 'KVV 1482', 'KWW', 'KV', '6-05-2020');\n",
    "    \"\"\")\n",
    "    "
   ]
  },
  {
   "cell_type": "markdown",
   "metadata": {},
   "source": [
    "# Choose only one"
   ]
  },
  {
   "cell_type": "markdown",
   "metadata": {},
   "source": [
    "## Commit changes"
   ]
  },
  {
   "cell_type": "code",
   "execution_count": 45,
   "metadata": {},
   "outputs": [],
   "source": [
    "fly_con.commit()\n",
    "hotel_con.commit()"
   ]
  },
  {
   "cell_type": "code",
   "execution_count": 46,
   "metadata": {},
   "outputs": [
    {
     "name": "stdout",
     "output_type": "stream",
     "text": [
      "Hotel:\n",
      "101\tNik\tHilton\t2015-05-01\t2015-05-07\n",
      "104\tAnton\tKiev\t2020-05-06\t2020-05-12\n",
      "Fly:\n",
      "101\tNik\tKLM 1382\tKBP\tAMS\t2015-05-01\n",
      "104\tAnton\tKVV 1482\tKWW\tKV\t2020-05-06\n"
     ]
    }
   ],
   "source": [
    "print(\"Hotel:\")\n",
    "with hotel_con.cursor() as hotel_cursor:\n",
    "    hotel_cursor.execute(\"SELECT * FROM hotel_booking;\")\n",
    "    answer_hotel = hotel_cursor.fetchall()\n",
    "\n",
    "hotel_con.rollback()\n",
    "\n",
    "for line in answer_hotel:\n",
    "    print(\"\\t\".join(map(lambda x: str(x).strip(), line)))\n",
    "    \n",
    "\n",
    "print(\"Fly:\")\n",
    "with fly_con.cursor() as fly_cursor:\n",
    "    fly_cursor.execute(\"SELECT * FROM fly_booking;\")\n",
    "    answer_hotel = fly_cursor.fetchall()\n",
    "\n",
    "fly_con.rollback()\n",
    "\n",
    "for line in answer_hotel:\n",
    "    print(\"\\t\".join(map(lambda x: str(x).strip(), line)))"
   ]
  },
  {
   "cell_type": "markdown",
   "metadata": {},
   "source": [
    "## Rollback changes"
   ]
  },
  {
   "cell_type": "code",
   "execution_count": 42,
   "metadata": {},
   "outputs": [],
   "source": [
    "fly_con.rollback()\n",
    "hotel_con.rollback()"
   ]
  },
  {
   "cell_type": "code",
   "execution_count": 43,
   "metadata": {},
   "outputs": [
    {
     "name": "stdout",
     "output_type": "stream",
     "text": [
      "Hotel:\n",
      "101\tNik\tHilton\t2015-05-01\t2015-05-07\n",
      "Fly:\n",
      "101\tNik\tKLM 1382\tKBP\tAMS\t2015-05-01\n"
     ]
    }
   ],
   "source": [
    "print(\"Hotel:\")\n",
    "with hotel_con.cursor() as hotel_cursor:\n",
    "    hotel_cursor.execute(\"SELECT * FROM hotel_booking;\")\n",
    "    answer_hotel = hotel_cursor.fetchall()\n",
    "\n",
    "hotel_con.rollback()\n",
    "\n",
    "for line in answer_hotel:\n",
    "    print(\"\\t\".join(map(lambda x: str(x).strip(), line)))\n",
    "    \n",
    "\n",
    "print(\"Fly:\")\n",
    "with fly_con.cursor() as fly_cursor:\n",
    "    fly_cursor.execute(\"SELECT * FROM fly_booking;\")\n",
    "    answer_hotel = fly_cursor.fetchall()\n",
    "\n",
    "fly_con.rollback()\n",
    "\n",
    "for line in answer_hotel:\n",
    "    print(\"\\t\".join(map(lambda x: str(x).strip(), line)))"
   ]
  },
  {
   "cell_type": "markdown",
   "metadata": {},
   "source": [
    "# Remove new line"
   ]
  },
  {
   "cell_type": "code",
   "execution_count": 37,
   "metadata": {},
   "outputs": [
    {
     "name": "stdout",
     "output_type": "stream",
     "text": [
      "Hotel:\n",
      "101\tNik\tKLM 1382\tKBP\tAMS\t2015-05-01\n",
      "102\tAnton\tKVV 1482\tKWW\tKV\t2020-05-06\n",
      "Fly:\n",
      "101\tNik\tKLM 1382\tKBP\tAMS\t2015-05-01\n",
      "102\tAnton\tKVV 1482\tKWW\tKV\t2020-05-06\n"
     ]
    }
   ],
   "source": [
    "print(\"Hotel:\")\n",
    "with hotel_con.cursor() as hotel_cursor:\n",
    "    hotel_cursor.execute(\"DELETE FROM hotel_booking WHERE client_name='Anton';\")\n",
    "\n",
    "hotel_con.commit()\n",
    "\n",
    "print(\"Fly:\")\n",
    "with fly_con.cursor() as fly_cursor:\n",
    "    fly_cursor.execute(\"DELETE FROM fly_booking WHERE client_name='Anton';\")\n",
    "\n",
    "fly_con.commit()"
   ]
  },
  {
   "cell_type": "code",
   "execution_count": 38,
   "metadata": {},
   "outputs": [
    {
     "name": "stdout",
     "output_type": "stream",
     "text": [
      "Hotel:\n",
      "101\tNik\tHilton\t2015-05-01\t2015-05-07\n",
      "Fly:\n",
      "101\tNik\tKLM 1382\tKBP\tAMS\t2015-05-01\n"
     ]
    }
   ],
   "source": [
    "print(\"Hotel:\")\n",
    "with hotel_con.cursor() as hotel_cursor:\n",
    "    hotel_cursor.execute(\"SELECT * FROM hotel_booking;\")\n",
    "    answer_hotel = hotel_cursor.fetchall()\n",
    "\n",
    "hotel_con.rollback()\n",
    "\n",
    "for line in answer_hotel:\n",
    "    print(\"\\t\".join(map(lambda x: str(x).strip(), line)))\n",
    "    \n",
    "\n",
    "print(\"Fly:\")\n",
    "with fly_con.cursor() as fly_cursor:\n",
    "    fly_cursor.execute(\"SELECT * FROM fly_booking;\")\n",
    "    answer_hotel = fly_cursor.fetchall()\n",
    "\n",
    "fly_con.rollback()\n",
    "\n",
    "for line in answer_hotel:\n",
    "    print(\"\\t\".join(map(lambda x: str(x).strip(), line)))"
   ]
  },
  {
   "cell_type": "code",
   "execution_count": null,
   "metadata": {},
   "outputs": [],
   "source": []
  }
 ],
 "metadata": {
  "kernelspec": {
   "display_name": "Python 3",
   "language": "python",
   "name": "python3"
  },
  "language_info": {
   "codemirror_mode": {
    "name": "ipython",
    "version": 3
   },
   "file_extension": ".py",
   "mimetype": "text/x-python",
   "name": "python",
   "nbconvert_exporter": "python",
   "pygments_lexer": "ipython3",
   "version": "3.6.9"
  }
 },
 "nbformat": 4,
 "nbformat_minor": 2
}
